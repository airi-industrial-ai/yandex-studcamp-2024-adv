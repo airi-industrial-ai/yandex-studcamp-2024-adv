{
 "cells": [
  {
   "cell_type": "markdown",
   "metadata": {
    "id": "1IwrsaENqaMJ"
   },
   "source": [
    "# A tutorial on adversarial attacks on fault diagnosis systems"
   ]
  },
  {
   "cell_type": "code",
   "execution_count": null,
   "metadata": {
    "id": "A0SO1vA6z79M"
   },
   "outputs": [],
   "source": [
    "import zipfile\n",
    "import requests\n",
    "from tqdm.auto import trange, tqdm\n",
    "\n",
    "import numpy as np\n",
    "import pandas as pd\n",
    "from sklearn.preprocessing import StandardScaler\n",
    "from sklearn.metrics import accuracy_score\n",
    "import matplotlib.pyplot as plt\n",
    "\n",
    "import torch\n",
    "import torch.nn as nn\n",
    "import torch.nn.functional as F\n",
    "from torch.utils.data import DataLoader\n",
    "from torch.optim import Adam"
   ]
  },
  {
   "cell_type": "markdown",
   "metadata": {
    "id": "sG3Cssc_Qfac"
   },
   "source": [
    "First, download the [TEP](https://dataverse.harvard.edu/dataset.xhtml?persistentId=doi:10.7910/DVN/6C3JR1) dataset. It is a small version of TEP, the original is ~2GB."
   ]
  },
  {
   "cell_type": "code",
   "execution_count": null,
   "metadata": {
    "id": "NW3OZjCA0ERq"
   },
   "outputs": [],
   "source": [
    "url = 'https://industrial-makarov.obs.ru-moscow-1.hc.sbercloud.ru/small_tep.zip'\n",
    "resp = requests.get(url)\n",
    "with open('small_tep.zip', 'wb') as file:\n",
    "    file.write(resp.content)\n",
    "with zipfile.ZipFile('small_tep.zip', 'r') as zip_ref:\n",
    "    zip_ref.extractall('data/')"
   ]
  },
  {
   "cell_type": "code",
   "execution_count": null,
   "metadata": {
    "colab": {
     "base_uri": "https://localhost:8080/"
    },
    "id": "oXK2F95T0LPq",
    "outputId": "a55a935b-c2c2-491c-8ceb-6d352ff5066e"
   },
   "outputs": [],
   "source": [
    "sensor_data = pd.read_csv('data/dataset.csv', index_col=(0, 1))\n",
    "target = pd.read_csv('data/labels.csv', index_col=(0, 1), names=['fault'], skiprows=1)\n",
    "train_mask = pd.read_csv('data/train_mask.csv', index_col=(0, 1))['train_mask']\n",
    "sensor_data.shape"
   ]
  },
  {
   "cell_type": "markdown",
   "metadata": {
    "id": "oBWQZrT2Q-gI"
   },
   "source": [
    "There are sensor data and targets with faults. Fault 0 is the normal condition."
   ]
  },
  {
   "cell_type": "code",
   "execution_count": null,
   "metadata": {
    "colab": {
     "base_uri": "https://localhost:8080/",
     "height": 475
    },
    "id": "10_zMBqq3hsj",
    "outputId": "9716761e-c2d0-4fc2-ad3f-e52f22228ac1"
   },
   "outputs": [],
   "source": [
    "sensor_data"
   ]
  },
  {
   "cell_type": "code",
   "execution_count": null,
   "metadata": {
    "colab": {
     "base_uri": "https://localhost:8080/",
     "height": 424
    },
    "id": "8mrOcHoT3jts",
    "outputId": "dffaca04-49dd-43d2-cdb6-5accba59fb68"
   },
   "outputs": [],
   "source": [
    "target"
   ]
  },
  {
   "cell_type": "markdown",
   "metadata": {
    "id": "L4AKxW7Shl25"
   },
   "source": [
    "Split runs into train, validation and test."
   ]
  },
  {
   "cell_type": "code",
   "execution_count": null,
   "metadata": {
    "colab": {
     "base_uri": "https://localhost:8080/"
    },
    "id": "EzR_FUlVxKnI",
    "outputId": "b2e4a2c3-24e4-43b4-a5fe-dd807a7a587d"
   },
   "outputs": [],
   "source": [
    "np.random.seed(0)\n",
    "random_runs = np.random.permutation(sensor_data.index.get_level_values(0).unique())\n",
    "n = len(random_runs)\n",
    "(train_runs, val_runs, test_runs) = (\n",
    "    random_runs[:int(0.7*n)], random_runs[int(0.7*n):int(0.8*n)], random_runs[int(0.8*n):])\n",
    "len(train_runs), len(val_runs), len(test_runs)"
   ]
  },
  {
   "cell_type": "code",
   "execution_count": null,
   "metadata": {
    "colab": {
     "base_uri": "https://localhost:8080/"
    },
    "id": "MzSDbFKU1BQb",
    "outputId": "b0360593-b35e-4724-850c-457a6aafa275"
   },
   "outputs": [],
   "source": [
    "train_sensor_data = sensor_data.loc[train_runs]\n",
    "val_sensor_data = sensor_data.loc[val_runs]\n",
    "test_sensor_data = sensor_data.loc[test_runs]\n",
    "\n",
    "train_target = target.loc[train_runs]\n",
    "val_target = target.loc[val_runs]\n",
    "test_target = target.loc[test_runs]\n",
    "\n",
    "len(train_target), len(val_target), len(test_target)"
   ]
  },
  {
   "cell_type": "markdown",
   "metadata": {
    "id": "07HEM3znhpc9"
   },
   "source": [
    "Next, we normalize sensors' values by the standard scaler."
   ]
  },
  {
   "cell_type": "code",
   "execution_count": null,
   "metadata": {
    "id": "WQ6cntmQ20vB"
   },
   "outputs": [],
   "source": [
    "scaler = StandardScaler()\n",
    "train_sensor_data[:] = scaler.fit_transform(train_sensor_data)\n",
    "val_sensor_data[:] = scaler.transform(val_sensor_data)\n",
    "test_sensor_data[:] = scaler.transform(test_sensor_data)"
   ]
  },
  {
   "cell_type": "markdown",
   "metadata": {
    "id": "Dot8CH137GW9"
   },
   "source": [
    "We apply sliding window approach to create a sequence of data samples."
   ]
  },
  {
   "cell_type": "markdown",
   "metadata": {
    "id": "MkEDCBa17kw5"
   },
   "source": [
    "<img src='https://raw.githubusercontent.com/airi-industrial-ai/yandex-studcamp-2024-adv/main/images/window_step_size.png' width=800>"
   ]
  },
  {
   "cell_type": "markdown",
   "metadata": {
    "id": "6qZKO_eU78dC"
   },
   "source": [
    "Since we create a fault diagnosis system based on MLP, we should convert samples from $\\mathbb{R}^{m \\times n}$ into $\\mathbb{R}^{mn}$."
   ]
  },
  {
   "cell_type": "markdown",
   "metadata": {},
   "source": [
    "<img src='https://raw.githubusercontent.com/airi-industrial-ai/yandex-studcamp-2024-adv/main/images/matrix_to_vector.png' width=200>"
   ]
  },
  {
   "cell_type": "code",
   "execution_count": null,
   "metadata": {
    "id": "PtQY7hRJixM2"
   },
   "outputs": [],
   "source": [
    "def sliding_window_data(sensor_data, target, runs, window_size=10, step_size=1):\n",
    "    output_sensor_data = []\n",
    "    output_target = []\n",
    "    for run in runs:\n",
    "        run_sensor_data = sensor_data.loc[run].values\n",
    "        run_target = target.loc[run].values\n",
    "        for i in range(0, len(run_sensor_data)-window_size, step_size):\n",
    "            output_sensor_data.append(run_sensor_data[i:i+window_size].reshape(-1))\n",
    "            output_target.append(run_target[i+window_size])\n",
    "    return np.array(output_sensor_data), np.array(output_target)"
   ]
  },
  {
   "cell_type": "code",
   "execution_count": null,
   "metadata": {
    "colab": {
     "base_uri": "https://localhost:8080/"
    },
    "id": "u1EabRQ7kip8",
    "outputId": "401db331-9f28-4b0f-9dbf-aba2298802a8"
   },
   "outputs": [],
   "source": [
    "X_train, y_train = sliding_window_data(train_sensor_data, train_target, train_runs)\n",
    "X_train = torch.FloatTensor(X_train)\n",
    "y_train = torch.LongTensor(y_train)\n",
    "\n",
    "X_val, y_val = sliding_window_data(val_sensor_data, val_target, val_runs)\n",
    "X_val = torch.FloatTensor(X_val)\n",
    "y_val = torch.LongTensor(y_val)\n",
    "\n",
    "X_test, y_test = sliding_window_data(test_sensor_data, test_target, test_runs)\n",
    "X_test = torch.FloatTensor(X_test)\n",
    "y_test = torch.LongTensor(y_test)\n",
    "\n",
    "X_train.shape, X_val.shape, X_test.shape"
   ]
  },
  {
   "cell_type": "markdown",
   "metadata": {
    "id": "dx3xh1w7h0bd"
   },
   "source": [
    "Create a simple diagnosis system based on 3-layer MLP with 128 hidden dim. Output dim 21 corresponds to the number of faults."
   ]
  },
  {
   "cell_type": "code",
   "execution_count": null,
   "metadata": {
    "id": "TE06G-rDcngP"
   },
   "outputs": [],
   "source": [
    "def create_model():\n",
    "    return nn.Sequential(\n",
    "        nn.Linear(520, 128),\n",
    "        nn.ReLU(),\n",
    "        nn.Linear(128, 21),\n",
    "    )"
   ]
  },
  {
   "cell_type": "markdown",
   "metadata": {
    "id": "wGtPYneSh-L2"
   },
   "source": [
    "Train the model."
   ]
  },
  {
   "cell_type": "code",
   "execution_count": null,
   "metadata": {
    "id": "JwRbRqTIYM1o"
   },
   "outputs": [],
   "source": [
    "def train(model, X_train, y_train, X_val, y_val):\n",
    "    optim = Adam(model.parameters(), lr=0.001)\n",
    "    train_loss_curve = []\n",
    "    val_loss_curve = []\n",
    "    for e in trange(1000):\n",
    "        random_idx = np.random.randint(0, len(X_train), size=256)\n",
    "        logits = model(X_train[random_idx])\n",
    "        loss = F.cross_entropy(logits, y_train[random_idx, 0])\n",
    "        train_loss_curve.append(loss.item())\n",
    "\n",
    "        optim.zero_grad()\n",
    "        loss.backward()\n",
    "        optim.step()\n",
    "\n",
    "        with torch.no_grad():\n",
    "            logits = model(X_val)\n",
    "        loss = F.cross_entropy(logits, y_val[:, 0])\n",
    "        val_loss_curve.append(loss.item())\n",
    "\n",
    "    return train_loss_curve, val_loss_curve"
   ]
  },
  {
   "cell_type": "code",
   "execution_count": null,
   "metadata": {
    "colab": {
     "base_uri": "https://localhost:8080/",
     "height": 462,
     "referenced_widgets": [
      "eee6eb726f30463e8e64eb4b2b18bc79",
      "39235bbe74204865a8b33a86ce5e48b7",
      "64dcb3946a524e6f9cb3b81e24d88bcf",
      "9558f6f268d64d5db4524c0b7bbf9d55",
      "2ac8c43a219147ddb6ec604811d66a71",
      "0033df6c8f434118aadeb719383e284f",
      "277670f0877d4931afbec5f4da3decbe",
      "2a1ffe346cff45028fd140eb802b847d",
      "32473c63fef94e968571a042486e702d",
      "707f18e0974043f7bfdbf557426ab60c",
      "b8bd9da548f347be833a296cec3c1ceb"
     ]
    },
    "id": "wYGl8vUC4YyU",
    "outputId": "9fda7cbe-aa20-462d-81e4-6b406642a54c"
   },
   "outputs": [],
   "source": [
    "model = create_model()\n",
    "train_loss_curve, val_loss_curve = train(model, X_train, y_train, X_val, y_val)\n",
    "\n",
    "plt.plot(train_loss_curve)\n",
    "plt.plot(val_loss_curve)\n",
    "plt.show()"
   ]
  },
  {
   "cell_type": "markdown",
   "metadata": {
    "id": "4-I7eXf3ErPX"
   },
   "source": [
    "### Task 1. Predict the probability"
   ]
  },
  {
   "cell_type": "markdown",
   "metadata": {
    "id": "bPOYv8jkErPX"
   },
   "source": [
    "Write a function that takes model and input X, returns a tensor with probability distribution of the shape N x K where N is the number of input examples and K is the number of classes."
   ]
  },
  {
   "cell_type": "code",
   "execution_count": null,
   "metadata": {
    "id": "KCSejlCiErPX"
   },
   "outputs": [],
   "source": [
    "def get_proba(model, X_input):\n",
    "    ### YOUR CODE HERE"
   ]
  },
  {
   "cell_type": "code",
   "execution_count": null,
   "metadata": {
    "colab": {
     "base_uri": "https://localhost:8080/"
    },
    "id": "p6eXtrmrErPX",
    "outputId": "b8a0b251-017e-4449-d6dc-9ba0b145d2a8"
   },
   "outputs": [],
   "source": [
    "proba = get_proba(model, X_test)\n",
    "assert proba.shape == (len(X_test), 21)\n",
    "assert np.allclose(proba.numpy().sum(axis=1), np.ones(len(X_test)))\n",
    "assert proba.grad is None\n",
    "pd.Series(proba[0]).round(2)"
   ]
  },
  {
   "cell_type": "markdown",
   "metadata": {
    "id": "3f7JHpjeErPX"
   },
   "source": [
    "### Task 2. Predict the fault"
   ]
  },
  {
   "cell_type": "markdown",
   "metadata": {
    "id": "PLRI2n9jErPX"
   },
   "source": [
    "Write a function that takes model and input X, returns a tensor with predicted fault IDs."
   ]
  },
  {
   "cell_type": "code",
   "execution_count": null,
   "metadata": {
    "id": "0JvxX67kErPX"
   },
   "outputs": [],
   "source": [
    "def get_pred(model, X_input):\n",
    "    ### YOUR CODE HERE"
   ]
  },
  {
   "cell_type": "code",
   "execution_count": null,
   "metadata": {
    "colab": {
     "base_uri": "https://localhost:8080/"
    },
    "id": "P3tvcifRErPX",
    "outputId": "408caa19-7c86-4120-b020-0eb63be41d99"
   },
   "outputs": [],
   "source": [
    "pred = get_pred(model, X_test)\n",
    "assert len(pred) == len(X_test)\n",
    "assert pred.grad is None\n",
    "pred"
   ]
  },
  {
   "cell_type": "code",
   "execution_count": null,
   "metadata": {
    "colab": {
     "base_uri": "https://localhost:8080/"
    },
    "id": "yNPKZB5U5yOh",
    "outputId": "bb88a800-65df-49fa-dbfa-3af32cb195a3"
   },
   "outputs": [],
   "source": [
    "acc = accuracy_score(pred, y_test[:, 0])\n",
    "print(f'Accuracy: {acc:.2f}')"
   ]
  },
  {
   "cell_type": "markdown",
   "metadata": {
    "id": "8M1NLf5ZErPY"
   },
   "source": [
    "### Task 3. FGSM Attack"
   ]
  },
  {
   "cell_type": "markdown",
   "metadata": {
    "id": "czBVj1cHiDvZ"
   },
   "source": [
    "Define the adversarial attack using Fast Gradient Sign Method as follows:\n",
    "\n",
    "$$x' = x + \\epsilon \\text{sign}\\left(\\nabla_x L(f(x), y)\\right),$$\n",
    "\n",
    "where $L$ is cross-entropy, $f$ is MLP, $sign$ is a function that equals to $-1$ for negative and $1$ for non-negative values.\n",
    "\n",
    "Write a function that takes X, y, model, epsilon and returns adversarial X."
   ]
  },
  {
   "cell_type": "code",
   "execution_count": null,
   "metadata": {
    "id": "5rWqHpTL7bLm"
   },
   "outputs": [],
   "source": [
    "def adv_attack(X, y, model, eps):\n",
    "    ### YOUR CODE HERE"
   ]
  },
  {
   "cell_type": "code",
   "execution_count": null,
   "metadata": {
    "id": "XwVoDVyMErPY"
   },
   "outputs": [],
   "source": [
    "X_test_copy = X_test.clone()\n",
    "X_test_adv = adv_attack(X_test, y_test, model, eps=0.05)\n",
    "assert X_test_adv.dtype == X_test.dtype\n",
    "assert X_test_adv.shape == X_test.shape\n",
    "assert (X_test_copy == X_test).all()\n",
    "assert X_test_adv.grad is None"
   ]
  },
  {
   "cell_type": "code",
   "execution_count": null,
   "metadata": {
    "colab": {
     "base_uri": "https://localhost:8080/"
    },
    "id": "o_LMga4A8JFz",
    "outputId": "f4079970-8f5a-41a6-b961-e6074619efbc"
   },
   "outputs": [],
   "source": [
    "adv_pred = get_pred(model, X_test_adv)\n",
    "acc = accuracy_score(adv_pred, y_test[:, 0])\n",
    "print(f'Accuracy (FGSM): {acc:.2f}')"
   ]
  },
  {
   "cell_type": "markdown",
   "metadata": {
    "id": "q0nezcULErPY"
   },
   "source": [
    "Let us take a look at the probability distributions with adversarial attack on a random test run."
   ]
  },
  {
   "cell_type": "code",
   "execution_count": null,
   "metadata": {
    "id": "dFWucCRQErPY"
   },
   "outputs": [],
   "source": [
    "def plot_ditribution(real_proba, adv_proba, logscale=True):\n",
    "    plt.figure(figsize=(10, 3))\n",
    "\n",
    "    plt.bar(\n",
    "        np.arange(21)+0.15,\n",
    "        real_proba,\n",
    "        width=0.3,\n",
    "        label=f'real pred is {np.argmax(real_proba)}, conf. {real_proba.max()*100:.0f}%'\n",
    "    )\n",
    "    plt.bar(\n",
    "        np.arange(21)-0.15,\n",
    "        adv_proba,\n",
    "        width=0.3,\n",
    "        label=f'adv pred is {np.argmax(adv_proba)}, conf. {adv_proba.max()*100:.0f}%')\n",
    "    plt.legend()\n",
    "    plt.xticks(range(21))\n",
    "    plt.xlabel('Fault')\n",
    "    plt.ylabel('Probability')\n",
    "    if logscale:\n",
    "        plt.yscale('log')\n",
    "    plt.show()"
   ]
  },
  {
   "cell_type": "code",
   "execution_count": null,
   "metadata": {
    "colab": {
     "base_uri": "https://localhost:8080/"
    },
    "id": "lVpwHorvgp4m",
    "outputId": "7daf70cb-da77-455c-e1d9-c3886c57c7c3"
   },
   "outputs": [],
   "source": [
    "#random_run = np.random.choice(test_runs)\n",
    "random_run = 275055401\n",
    "X_input, y_input = sliding_window_data(test_sensor_data, test_target, [random_run])\n",
    "X_input = torch.FloatTensor(X_input)\n",
    "y_input = torch.LongTensor(y_input)\n",
    "print(f'run: {random_run}, input shape: {list(X_input.shape)}, target: {y_input[-1].item()}')"
   ]
  },
  {
   "cell_type": "code",
   "execution_count": null,
   "metadata": {
    "colab": {
     "base_uri": "https://localhost:8080/",
     "height": 311
    },
    "id": "i1xo6wwig966",
    "outputId": "cd4742b3-c6ce-47c7-b327-8a0ae96d64fd"
   },
   "outputs": [],
   "source": [
    "real_proba = get_proba(model, X_input)\n",
    "X_input_adv = adv_attack(X_input, y_input, model, eps=0.05)\n",
    "adv_proba = get_proba(model, X_input_adv)\n",
    "\n",
    "plot_ditribution(real_proba[-1], adv_proba[-1])"
   ]
  },
  {
   "cell_type": "markdown",
   "metadata": {
    "id": "rnHr6ZHCErPd"
   },
   "source": [
    "Let us compare the input sample and the adversarial sample."
   ]
  },
  {
   "cell_type": "code",
   "execution_count": null,
   "metadata": {
    "id": "XzFwU1Wa990K",
    "scrolled": false
   },
   "outputs": [],
   "source": [
    "def plot_samples(X_input, X_input_adv, columns):\n",
    "    plt.figure(figsize=(5*2, 2*26))\n",
    "    for i in trange(52):\n",
    "        plt.subplot(26, 2, i+1)\n",
    "        plt.plot(X_input[-100:, i], label='original sample')\n",
    "        plt.plot(X_input_adv[-100:, i], label='adversarial sample')\n",
    "        plt.title(f'{columns[i]}')\n",
    "        plt.legend()\n",
    "        plt.grid()\n",
    "    plt.tight_layout()\n",
    "    plt.show()"
   ]
  },
  {
   "cell_type": "code",
   "execution_count": null,
   "metadata": {
    "colab": {
     "base_uri": "https://localhost:8080/",
     "height": 1000,
     "referenced_widgets": [
      "9936c791920f4e87b91d4efb9c46abf4",
      "45e75432dcbe494d916a0a8051eb9a56",
      "77b89e6bb7a64791aa874248251765ae",
      "fe46c775dd304c64b46c43ab7829b95f",
      "4362446f1c2e49cdaf90fd13e8c336f2",
      "68b02ef628b94c2fbaf5562ff71a1dff",
      "367459d217014d979da86193505e622c",
      "bc04d99adcd14299a0512faf94da61d8",
      "d7e73f5b385c4e2091d5d81fb29224a2",
      "62735b18ac1a4aad99999d0638c755e3",
      "46cb2f181b0b4376a92c80588fad954a"
     ]
    },
    "id": "GuVr5AahErPd",
    "outputId": "8ebcbd38-4f68-4674-9d96-2c2f177f3969",
    "scrolled": false
   },
   "outputs": [],
   "source": [
    "plot_samples(X_input, X_input_adv, sensor_data.columns)"
   ]
  },
  {
   "cell_type": "markdown",
   "metadata": {
    "id": "JKgm4WEWErPd"
   },
   "source": [
    "### Task 4. OTCM Attack\n",
    "\n",
    "Define the targeted adversarial attack using One-step Target Class Method as follows:\n",
    "\n",
    "$$x' = x - \\epsilon \\text{sign}\\left(\\nabla_x L(f(x), y')\\right),$$\n",
    "\n",
    "where $L$ is cross-entropy, $f$ is MLP, $sign$ is a function that equals to $-1$ for negative and $1$ for non-negative values, $y'$ is a target class.\n",
    "\n",
    "Write a function that takes X, target class, model, epsilon and returns adversarial X."
   ]
  },
  {
   "cell_type": "code",
   "execution_count": null,
   "metadata": {
    "id": "ds6OlbTwxuIF"
   },
   "outputs": [],
   "source": [
    "def targeted_adv_attack(X, target, model, eps):\n",
    "    ### YOUR CODE HERE"
   ]
  },
  {
   "cell_type": "code",
   "execution_count": null,
   "metadata": {
    "id": "c2Sg-N8MErPd"
   },
   "outputs": [],
   "source": [
    "X_test_copy = X_test.clone()\n",
    "X_test_adv = targeted_adv_attack(X_test, 0, model, eps=0.05)\n",
    "assert X_test_adv.dtype == X_test.dtype\n",
    "assert X_test_adv.shape == X_test.shape\n",
    "assert (X_test_copy == X_test).all()\n",
    "assert X_test_adv.grad is None"
   ]
  },
  {
   "cell_type": "markdown",
   "metadata": {
    "id": "yd0kmWDrErPd"
   },
   "source": [
    "Consider the predicted probability distribution and compare the sample."
   ]
  },
  {
   "cell_type": "code",
   "execution_count": null,
   "metadata": {
    "colab": {
     "base_uri": "https://localhost:8080/",
     "height": 311
    },
    "id": "uM2A8g3t4971",
    "outputId": "56a410bf-e2d9-4522-cd64-3b7684bed144"
   },
   "outputs": [],
   "source": [
    "real_proba = get_proba(model, X_input)\n",
    "\n",
    "X_input_adv = targeted_adv_attack(X_input, 18, model, eps=0.1)\n",
    "adv_proba = get_proba(model, X_input_adv)\n",
    "\n",
    "plot_ditribution(real_proba[-1], adv_proba[-1], logscale=True)"
   ]
  },
  {
   "cell_type": "markdown",
   "metadata": {
    "id": "hqMnBmNeErPd"
   },
   "source": [
    "### Task 5. Adversarial training\n",
    "\n",
    "Train the model mixing real and adversarial samples. Modify the loss function as follows:\n",
    "\n",
    "$$L = L_\\text{orig} + \\lambda L_\\text{adv},$$\n",
    "\n",
    "where $L_\\text{adv}$ is the cross-entropy calculated on the adversarial samples and $\\lambda$ is the huperparameter.\n",
    "\n",
    "Write a function that takes model, data for train, data for validation, epsilon for the FGSM attack and lambda. The function returns a list with train loss values and val loss values."
   ]
  },
  {
   "cell_type": "code",
   "execution_count": null,
   "metadata": {
    "id": "kSol985lFl6D"
   },
   "outputs": [],
   "source": [
    "def adv_train(model, X_train, y_train, X_val, y_val, eps, lambd):\n",
    "    ### YOUR CODE HERE"
   ]
  },
  {
   "cell_type": "code",
   "execution_count": null,
   "metadata": {
    "colab": {
     "base_uri": "https://localhost:8080/",
     "height": 480,
     "referenced_widgets": [
      "bd5211dff32e498b950c105661bbd9ab",
      "498cd481eb204ca98347c9b64946ea64",
      "6916f56f3b4b4abf89cc2c928cd7e394",
      "7239692951864e42867a4533e0766f68",
      "ea344d33cf8049959f9d13d748797fd9",
      "716baf355ec9454dadcb3b43ac7cf2b4",
      "36e058b6685c459c92f16afcaf03de49",
      "5c7671d825ff4748859356074051e576",
      "58f79ce0b7e54bf1923561c373a21336",
      "dfd9395b25ee44b18ab2445f3dbd0467",
      "42fd9d07770a40658cf08f24e6c56288"
     ]
    },
    "id": "8OSdFrKpccDR",
    "outputId": "0740c5f3-ff90-478f-bd30-c2c1ef241528"
   },
   "outputs": [],
   "source": [
    "def_model = create_model()\n",
    "train_loss_curve, val_loss_curve = adv_train(\n",
    "    def_model, X_train, y_train, X_val, y_val, eps=0.1, lambd=1.)\n",
    "print(f'Train loss: {train_loss_curve[-1]:.2f}')\n",
    "\n",
    "plt.plot(train_loss_curve)\n",
    "plt.plot(val_loss_curve)\n",
    "plt.show()"
   ]
  },
  {
   "cell_type": "code",
   "execution_count": null,
   "metadata": {
    "colab": {
     "base_uri": "https://localhost:8080/"
    },
    "id": "2cPvPbZ2c6Qv",
    "outputId": "784b3152-8d3c-4f68-efc5-eacd29b66794"
   },
   "outputs": [],
   "source": [
    "X_test_adv = adv_attack(X_test, y_test, def_model, eps=0.05)\n",
    "adv_pred = get_pred(model, X_test_adv)\n",
    "acc = accuracy_score(adv_pred, y_test[:, 0])\n",
    "print(f'Accuracy (FGSM and Adversarial training): {acc:.2f}')"
   ]
  },
  {
   "cell_type": "markdown",
   "metadata": {
    "id": "2nGmfDX_ErPe"
   },
   "source": [
    "We can compare the accuracy without defense and with defense."
   ]
  },
  {
   "cell_type": "code",
   "execution_count": null,
   "metadata": {
    "colab": {
     "base_uri": "https://localhost:8080/",
     "height": 420,
     "referenced_widgets": [
      "08beee8a23ff4dfab4c1c04d33a3860c",
      "8523da6774144b359408ee86b6436a89",
      "ee00f01b4a1741cfab17884ada3c152b",
      "919a6797c4a44a8fa32b2182b3b956e9",
      "fc03dc669fdb412f9e15a2098f16755f",
      "c5845980b5854b649df35d157832b9ff",
      "14077798b2874c20b81cda2820239e06",
      "3a0952f2561249309e3f1b9d677bfac5",
      "4a42ec027dc74e439c97c42172b9690d",
      "2362707b32fd428abc831718013f7d82",
      "396eda4893544a32ae344a6b36f29277"
     ]
    },
    "id": "1f41uCNJge_q",
    "outputId": "35f1153d-a969-47de-c6b1-6dc52c62cb79"
   },
   "outputs": [],
   "source": [
    "acc_list = []\n",
    "def_acc_list = []\n",
    "\n",
    "eps_space = np.linspace(0.01, 0.3, 30)\n",
    "for eps in tqdm(eps_space):\n",
    "    X_test_adv = adv_attack(X_test, y_test, model, eps=eps)\n",
    "    adv_pred = get_pred(model, X_test_adv)\n",
    "    acc_list.append(accuracy_score(adv_pred, y_test[:, 0]))\n",
    "\n",
    "    X_test_adv = adv_attack(X_test, y_test, def_model, eps=eps)\n",
    "    adv_pred = get_pred(def_model, X_test_adv)\n",
    "    def_acc_list.append(accuracy_score(adv_pred, y_test[:, 0]))\n",
    "\n",
    "assert acc_list[0] > def_acc_list[0]\n",
    "assert acc_list[-1] < def_acc_list[-1]\n",
    "\n",
    "plt.figure(figsize=(6, 4))\n",
    "plt.plot(eps_space, acc_list, label='No defense')\n",
    "plt.plot(eps_space, def_acc_list, label='Adversarial Training')\n",
    "plt.xlabel('eps')\n",
    "plt.ylabel('Accuracy')\n",
    "plt.legend()\n",
    "plt.grid()\n",
    "plt.show()"
   ]
  },
  {
   "cell_type": "code",
   "execution_count": null,
   "metadata": {
    "id": "Vo_sSlFWErPe"
   },
   "outputs": [],
   "source": []
  }
 ],
 "metadata": {
  "colab": {
   "provenance": []
  },
  "kernelspec": {
   "display_name": "Python 3 (ipykernel)",
   "language": "python",
   "name": "python3"
  },
  "language_info": {
   "codemirror_mode": {
    "name": "ipython",
    "version": 3
   },
   "file_extension": ".py",
   "mimetype": "text/x-python",
   "name": "python",
   "nbconvert_exporter": "python",
   "pygments_lexer": "ipython3",
   "version": "3.9.18"
  },
  "widgets": {
   "application/vnd.jupyter.widget-state+json": {
    "0033df6c8f434118aadeb719383e284f": {
     "model_module": "@jupyter-widgets/base",
     "model_module_version": "1.2.0",
     "model_name": "LayoutModel",
     "state": {
      "_model_module": "@jupyter-widgets/base",
      "_model_module_version": "1.2.0",
      "_model_name": "LayoutModel",
      "_view_count": null,
      "_view_module": "@jupyter-widgets/base",
      "_view_module_version": "1.2.0",
      "_view_name": "LayoutView",
      "align_content": null,
      "align_items": null,
      "align_self": null,
      "border": null,
      "bottom": null,
      "display": null,
      "flex": null,
      "flex_flow": null,
      "grid_area": null,
      "grid_auto_columns": null,
      "grid_auto_flow": null,
      "grid_auto_rows": null,
      "grid_column": null,
      "grid_gap": null,
      "grid_row": null,
      "grid_template_areas": null,
      "grid_template_columns": null,
      "grid_template_rows": null,
      "height": null,
      "justify_content": null,
      "justify_items": null,
      "left": null,
      "margin": null,
      "max_height": null,
      "max_width": null,
      "min_height": null,
      "min_width": null,
      "object_fit": null,
      "object_position": null,
      "order": null,
      "overflow": null,
      "overflow_x": null,
      "overflow_y": null,
      "padding": null,
      "right": null,
      "top": null,
      "visibility": null,
      "width": null
     }
    },
    "08beee8a23ff4dfab4c1c04d33a3860c": {
     "model_module": "@jupyter-widgets/controls",
     "model_module_version": "1.5.0",
     "model_name": "HBoxModel",
     "state": {
      "_dom_classes": [],
      "_model_module": "@jupyter-widgets/controls",
      "_model_module_version": "1.5.0",
      "_model_name": "HBoxModel",
      "_view_count": null,
      "_view_module": "@jupyter-widgets/controls",
      "_view_module_version": "1.5.0",
      "_view_name": "HBoxView",
      "box_style": "",
      "children": [
       "IPY_MODEL_8523da6774144b359408ee86b6436a89",
       "IPY_MODEL_ee00f01b4a1741cfab17884ada3c152b",
       "IPY_MODEL_919a6797c4a44a8fa32b2182b3b956e9"
      ],
      "layout": "IPY_MODEL_fc03dc669fdb412f9e15a2098f16755f"
     }
    },
    "14077798b2874c20b81cda2820239e06": {
     "model_module": "@jupyter-widgets/controls",
     "model_module_version": "1.5.0",
     "model_name": "DescriptionStyleModel",
     "state": {
      "_model_module": "@jupyter-widgets/controls",
      "_model_module_version": "1.5.0",
      "_model_name": "DescriptionStyleModel",
      "_view_count": null,
      "_view_module": "@jupyter-widgets/base",
      "_view_module_version": "1.2.0",
      "_view_name": "StyleView",
      "description_width": ""
     }
    },
    "2362707b32fd428abc831718013f7d82": {
     "model_module": "@jupyter-widgets/base",
     "model_module_version": "1.2.0",
     "model_name": "LayoutModel",
     "state": {
      "_model_module": "@jupyter-widgets/base",
      "_model_module_version": "1.2.0",
      "_model_name": "LayoutModel",
      "_view_count": null,
      "_view_module": "@jupyter-widgets/base",
      "_view_module_version": "1.2.0",
      "_view_name": "LayoutView",
      "align_content": null,
      "align_items": null,
      "align_self": null,
      "border": null,
      "bottom": null,
      "display": null,
      "flex": null,
      "flex_flow": null,
      "grid_area": null,
      "grid_auto_columns": null,
      "grid_auto_flow": null,
      "grid_auto_rows": null,
      "grid_column": null,
      "grid_gap": null,
      "grid_row": null,
      "grid_template_areas": null,
      "grid_template_columns": null,
      "grid_template_rows": null,
      "height": null,
      "justify_content": null,
      "justify_items": null,
      "left": null,
      "margin": null,
      "max_height": null,
      "max_width": null,
      "min_height": null,
      "min_width": null,
      "object_fit": null,
      "object_position": null,
      "order": null,
      "overflow": null,
      "overflow_x": null,
      "overflow_y": null,
      "padding": null,
      "right": null,
      "top": null,
      "visibility": null,
      "width": null
     }
    },
    "277670f0877d4931afbec5f4da3decbe": {
     "model_module": "@jupyter-widgets/controls",
     "model_module_version": "1.5.0",
     "model_name": "DescriptionStyleModel",
     "state": {
      "_model_module": "@jupyter-widgets/controls",
      "_model_module_version": "1.5.0",
      "_model_name": "DescriptionStyleModel",
      "_view_count": null,
      "_view_module": "@jupyter-widgets/base",
      "_view_module_version": "1.2.0",
      "_view_name": "StyleView",
      "description_width": ""
     }
    },
    "2a1ffe346cff45028fd140eb802b847d": {
     "model_module": "@jupyter-widgets/base",
     "model_module_version": "1.2.0",
     "model_name": "LayoutModel",
     "state": {
      "_model_module": "@jupyter-widgets/base",
      "_model_module_version": "1.2.0",
      "_model_name": "LayoutModel",
      "_view_count": null,
      "_view_module": "@jupyter-widgets/base",
      "_view_module_version": "1.2.0",
      "_view_name": "LayoutView",
      "align_content": null,
      "align_items": null,
      "align_self": null,
      "border": null,
      "bottom": null,
      "display": null,
      "flex": null,
      "flex_flow": null,
      "grid_area": null,
      "grid_auto_columns": null,
      "grid_auto_flow": null,
      "grid_auto_rows": null,
      "grid_column": null,
      "grid_gap": null,
      "grid_row": null,
      "grid_template_areas": null,
      "grid_template_columns": null,
      "grid_template_rows": null,
      "height": null,
      "justify_content": null,
      "justify_items": null,
      "left": null,
      "margin": null,
      "max_height": null,
      "max_width": null,
      "min_height": null,
      "min_width": null,
      "object_fit": null,
      "object_position": null,
      "order": null,
      "overflow": null,
      "overflow_x": null,
      "overflow_y": null,
      "padding": null,
      "right": null,
      "top": null,
      "visibility": null,
      "width": null
     }
    },
    "2ac8c43a219147ddb6ec604811d66a71": {
     "model_module": "@jupyter-widgets/base",
     "model_module_version": "1.2.0",
     "model_name": "LayoutModel",
     "state": {
      "_model_module": "@jupyter-widgets/base",
      "_model_module_version": "1.2.0",
      "_model_name": "LayoutModel",
      "_view_count": null,
      "_view_module": "@jupyter-widgets/base",
      "_view_module_version": "1.2.0",
      "_view_name": "LayoutView",
      "align_content": null,
      "align_items": null,
      "align_self": null,
      "border": null,
      "bottom": null,
      "display": null,
      "flex": null,
      "flex_flow": null,
      "grid_area": null,
      "grid_auto_columns": null,
      "grid_auto_flow": null,
      "grid_auto_rows": null,
      "grid_column": null,
      "grid_gap": null,
      "grid_row": null,
      "grid_template_areas": null,
      "grid_template_columns": null,
      "grid_template_rows": null,
      "height": null,
      "justify_content": null,
      "justify_items": null,
      "left": null,
      "margin": null,
      "max_height": null,
      "max_width": null,
      "min_height": null,
      "min_width": null,
      "object_fit": null,
      "object_position": null,
      "order": null,
      "overflow": null,
      "overflow_x": null,
      "overflow_y": null,
      "padding": null,
      "right": null,
      "top": null,
      "visibility": null,
      "width": null
     }
    },
    "32473c63fef94e968571a042486e702d": {
     "model_module": "@jupyter-widgets/controls",
     "model_module_version": "1.5.0",
     "model_name": "ProgressStyleModel",
     "state": {
      "_model_module": "@jupyter-widgets/controls",
      "_model_module_version": "1.5.0",
      "_model_name": "ProgressStyleModel",
      "_view_count": null,
      "_view_module": "@jupyter-widgets/base",
      "_view_module_version": "1.2.0",
      "_view_name": "StyleView",
      "bar_color": null,
      "description_width": ""
     }
    },
    "367459d217014d979da86193505e622c": {
     "model_module": "@jupyter-widgets/controls",
     "model_module_version": "1.5.0",
     "model_name": "DescriptionStyleModel",
     "state": {
      "_model_module": "@jupyter-widgets/controls",
      "_model_module_version": "1.5.0",
      "_model_name": "DescriptionStyleModel",
      "_view_count": null,
      "_view_module": "@jupyter-widgets/base",
      "_view_module_version": "1.2.0",
      "_view_name": "StyleView",
      "description_width": ""
     }
    },
    "36e058b6685c459c92f16afcaf03de49": {
     "model_module": "@jupyter-widgets/controls",
     "model_module_version": "1.5.0",
     "model_name": "DescriptionStyleModel",
     "state": {
      "_model_module": "@jupyter-widgets/controls",
      "_model_module_version": "1.5.0",
      "_model_name": "DescriptionStyleModel",
      "_view_count": null,
      "_view_module": "@jupyter-widgets/base",
      "_view_module_version": "1.2.0",
      "_view_name": "StyleView",
      "description_width": ""
     }
    },
    "39235bbe74204865a8b33a86ce5e48b7": {
     "model_module": "@jupyter-widgets/controls",
     "model_module_version": "1.5.0",
     "model_name": "HTMLModel",
     "state": {
      "_dom_classes": [],
      "_model_module": "@jupyter-widgets/controls",
      "_model_module_version": "1.5.0",
      "_model_name": "HTMLModel",
      "_view_count": null,
      "_view_module": "@jupyter-widgets/controls",
      "_view_module_version": "1.5.0",
      "_view_name": "HTMLView",
      "description": "",
      "description_tooltip": null,
      "layout": "IPY_MODEL_0033df6c8f434118aadeb719383e284f",
      "placeholder": "​",
      "style": "IPY_MODEL_277670f0877d4931afbec5f4da3decbe",
      "value": "100%"
     }
    },
    "396eda4893544a32ae344a6b36f29277": {
     "model_module": "@jupyter-widgets/controls",
     "model_module_version": "1.5.0",
     "model_name": "DescriptionStyleModel",
     "state": {
      "_model_module": "@jupyter-widgets/controls",
      "_model_module_version": "1.5.0",
      "_model_name": "DescriptionStyleModel",
      "_view_count": null,
      "_view_module": "@jupyter-widgets/base",
      "_view_module_version": "1.2.0",
      "_view_name": "StyleView",
      "description_width": ""
     }
    },
    "3a0952f2561249309e3f1b9d677bfac5": {
     "model_module": "@jupyter-widgets/base",
     "model_module_version": "1.2.0",
     "model_name": "LayoutModel",
     "state": {
      "_model_module": "@jupyter-widgets/base",
      "_model_module_version": "1.2.0",
      "_model_name": "LayoutModel",
      "_view_count": null,
      "_view_module": "@jupyter-widgets/base",
      "_view_module_version": "1.2.0",
      "_view_name": "LayoutView",
      "align_content": null,
      "align_items": null,
      "align_self": null,
      "border": null,
      "bottom": null,
      "display": null,
      "flex": null,
      "flex_flow": null,
      "grid_area": null,
      "grid_auto_columns": null,
      "grid_auto_flow": null,
      "grid_auto_rows": null,
      "grid_column": null,
      "grid_gap": null,
      "grid_row": null,
      "grid_template_areas": null,
      "grid_template_columns": null,
      "grid_template_rows": null,
      "height": null,
      "justify_content": null,
      "justify_items": null,
      "left": null,
      "margin": null,
      "max_height": null,
      "max_width": null,
      "min_height": null,
      "min_width": null,
      "object_fit": null,
      "object_position": null,
      "order": null,
      "overflow": null,
      "overflow_x": null,
      "overflow_y": null,
      "padding": null,
      "right": null,
      "top": null,
      "visibility": null,
      "width": null
     }
    },
    "42fd9d07770a40658cf08f24e6c56288": {
     "model_module": "@jupyter-widgets/controls",
     "model_module_version": "1.5.0",
     "model_name": "DescriptionStyleModel",
     "state": {
      "_model_module": "@jupyter-widgets/controls",
      "_model_module_version": "1.5.0",
      "_model_name": "DescriptionStyleModel",
      "_view_count": null,
      "_view_module": "@jupyter-widgets/base",
      "_view_module_version": "1.2.0",
      "_view_name": "StyleView",
      "description_width": ""
     }
    },
    "4362446f1c2e49cdaf90fd13e8c336f2": {
     "model_module": "@jupyter-widgets/base",
     "model_module_version": "1.2.0",
     "model_name": "LayoutModel",
     "state": {
      "_model_module": "@jupyter-widgets/base",
      "_model_module_version": "1.2.0",
      "_model_name": "LayoutModel",
      "_view_count": null,
      "_view_module": "@jupyter-widgets/base",
      "_view_module_version": "1.2.0",
      "_view_name": "LayoutView",
      "align_content": null,
      "align_items": null,
      "align_self": null,
      "border": null,
      "bottom": null,
      "display": null,
      "flex": null,
      "flex_flow": null,
      "grid_area": null,
      "grid_auto_columns": null,
      "grid_auto_flow": null,
      "grid_auto_rows": null,
      "grid_column": null,
      "grid_gap": null,
      "grid_row": null,
      "grid_template_areas": null,
      "grid_template_columns": null,
      "grid_template_rows": null,
      "height": null,
      "justify_content": null,
      "justify_items": null,
      "left": null,
      "margin": null,
      "max_height": null,
      "max_width": null,
      "min_height": null,
      "min_width": null,
      "object_fit": null,
      "object_position": null,
      "order": null,
      "overflow": null,
      "overflow_x": null,
      "overflow_y": null,
      "padding": null,
      "right": null,
      "top": null,
      "visibility": null,
      "width": null
     }
    },
    "45e75432dcbe494d916a0a8051eb9a56": {
     "model_module": "@jupyter-widgets/controls",
     "model_module_version": "1.5.0",
     "model_name": "HTMLModel",
     "state": {
      "_dom_classes": [],
      "_model_module": "@jupyter-widgets/controls",
      "_model_module_version": "1.5.0",
      "_model_name": "HTMLModel",
      "_view_count": null,
      "_view_module": "@jupyter-widgets/controls",
      "_view_module_version": "1.5.0",
      "_view_name": "HTMLView",
      "description": "",
      "description_tooltip": null,
      "layout": "IPY_MODEL_68b02ef628b94c2fbaf5562ff71a1dff",
      "placeholder": "​",
      "style": "IPY_MODEL_367459d217014d979da86193505e622c",
      "value": "100%"
     }
    },
    "46cb2f181b0b4376a92c80588fad954a": {
     "model_module": "@jupyter-widgets/controls",
     "model_module_version": "1.5.0",
     "model_name": "DescriptionStyleModel",
     "state": {
      "_model_module": "@jupyter-widgets/controls",
      "_model_module_version": "1.5.0",
      "_model_name": "DescriptionStyleModel",
      "_view_count": null,
      "_view_module": "@jupyter-widgets/base",
      "_view_module_version": "1.2.0",
      "_view_name": "StyleView",
      "description_width": ""
     }
    },
    "498cd481eb204ca98347c9b64946ea64": {
     "model_module": "@jupyter-widgets/controls",
     "model_module_version": "1.5.0",
     "model_name": "HTMLModel",
     "state": {
      "_dom_classes": [],
      "_model_module": "@jupyter-widgets/controls",
      "_model_module_version": "1.5.0",
      "_model_name": "HTMLModel",
      "_view_count": null,
      "_view_module": "@jupyter-widgets/controls",
      "_view_module_version": "1.5.0",
      "_view_name": "HTMLView",
      "description": "",
      "description_tooltip": null,
      "layout": "IPY_MODEL_716baf355ec9454dadcb3b43ac7cf2b4",
      "placeholder": "​",
      "style": "IPY_MODEL_36e058b6685c459c92f16afcaf03de49",
      "value": "100%"
     }
    },
    "4a42ec027dc74e439c97c42172b9690d": {
     "model_module": "@jupyter-widgets/controls",
     "model_module_version": "1.5.0",
     "model_name": "ProgressStyleModel",
     "state": {
      "_model_module": "@jupyter-widgets/controls",
      "_model_module_version": "1.5.0",
      "_model_name": "ProgressStyleModel",
      "_view_count": null,
      "_view_module": "@jupyter-widgets/base",
      "_view_module_version": "1.2.0",
      "_view_name": "StyleView",
      "bar_color": null,
      "description_width": ""
     }
    },
    "58f79ce0b7e54bf1923561c373a21336": {
     "model_module": "@jupyter-widgets/controls",
     "model_module_version": "1.5.0",
     "model_name": "ProgressStyleModel",
     "state": {
      "_model_module": "@jupyter-widgets/controls",
      "_model_module_version": "1.5.0",
      "_model_name": "ProgressStyleModel",
      "_view_count": null,
      "_view_module": "@jupyter-widgets/base",
      "_view_module_version": "1.2.0",
      "_view_name": "StyleView",
      "bar_color": null,
      "description_width": ""
     }
    },
    "5c7671d825ff4748859356074051e576": {
     "model_module": "@jupyter-widgets/base",
     "model_module_version": "1.2.0",
     "model_name": "LayoutModel",
     "state": {
      "_model_module": "@jupyter-widgets/base",
      "_model_module_version": "1.2.0",
      "_model_name": "LayoutModel",
      "_view_count": null,
      "_view_module": "@jupyter-widgets/base",
      "_view_module_version": "1.2.0",
      "_view_name": "LayoutView",
      "align_content": null,
      "align_items": null,
      "align_self": null,
      "border": null,
      "bottom": null,
      "display": null,
      "flex": null,
      "flex_flow": null,
      "grid_area": null,
      "grid_auto_columns": null,
      "grid_auto_flow": null,
      "grid_auto_rows": null,
      "grid_column": null,
      "grid_gap": null,
      "grid_row": null,
      "grid_template_areas": null,
      "grid_template_columns": null,
      "grid_template_rows": null,
      "height": null,
      "justify_content": null,
      "justify_items": null,
      "left": null,
      "margin": null,
      "max_height": null,
      "max_width": null,
      "min_height": null,
      "min_width": null,
      "object_fit": null,
      "object_position": null,
      "order": null,
      "overflow": null,
      "overflow_x": null,
      "overflow_y": null,
      "padding": null,
      "right": null,
      "top": null,
      "visibility": null,
      "width": null
     }
    },
    "62735b18ac1a4aad99999d0638c755e3": {
     "model_module": "@jupyter-widgets/base",
     "model_module_version": "1.2.0",
     "model_name": "LayoutModel",
     "state": {
      "_model_module": "@jupyter-widgets/base",
      "_model_module_version": "1.2.0",
      "_model_name": "LayoutModel",
      "_view_count": null,
      "_view_module": "@jupyter-widgets/base",
      "_view_module_version": "1.2.0",
      "_view_name": "LayoutView",
      "align_content": null,
      "align_items": null,
      "align_self": null,
      "border": null,
      "bottom": null,
      "display": null,
      "flex": null,
      "flex_flow": null,
      "grid_area": null,
      "grid_auto_columns": null,
      "grid_auto_flow": null,
      "grid_auto_rows": null,
      "grid_column": null,
      "grid_gap": null,
      "grid_row": null,
      "grid_template_areas": null,
      "grid_template_columns": null,
      "grid_template_rows": null,
      "height": null,
      "justify_content": null,
      "justify_items": null,
      "left": null,
      "margin": null,
      "max_height": null,
      "max_width": null,
      "min_height": null,
      "min_width": null,
      "object_fit": null,
      "object_position": null,
      "order": null,
      "overflow": null,
      "overflow_x": null,
      "overflow_y": null,
      "padding": null,
      "right": null,
      "top": null,
      "visibility": null,
      "width": null
     }
    },
    "64dcb3946a524e6f9cb3b81e24d88bcf": {
     "model_module": "@jupyter-widgets/controls",
     "model_module_version": "1.5.0",
     "model_name": "FloatProgressModel",
     "state": {
      "_dom_classes": [],
      "_model_module": "@jupyter-widgets/controls",
      "_model_module_version": "1.5.0",
      "_model_name": "FloatProgressModel",
      "_view_count": null,
      "_view_module": "@jupyter-widgets/controls",
      "_view_module_version": "1.5.0",
      "_view_name": "ProgressView",
      "bar_style": "success",
      "description": "",
      "description_tooltip": null,
      "layout": "IPY_MODEL_2a1ffe346cff45028fd140eb802b847d",
      "max": 1000,
      "min": 0,
      "orientation": "horizontal",
      "style": "IPY_MODEL_32473c63fef94e968571a042486e702d",
      "value": 1000
     }
    },
    "68b02ef628b94c2fbaf5562ff71a1dff": {
     "model_module": "@jupyter-widgets/base",
     "model_module_version": "1.2.0",
     "model_name": "LayoutModel",
     "state": {
      "_model_module": "@jupyter-widgets/base",
      "_model_module_version": "1.2.0",
      "_model_name": "LayoutModel",
      "_view_count": null,
      "_view_module": "@jupyter-widgets/base",
      "_view_module_version": "1.2.0",
      "_view_name": "LayoutView",
      "align_content": null,
      "align_items": null,
      "align_self": null,
      "border": null,
      "bottom": null,
      "display": null,
      "flex": null,
      "flex_flow": null,
      "grid_area": null,
      "grid_auto_columns": null,
      "grid_auto_flow": null,
      "grid_auto_rows": null,
      "grid_column": null,
      "grid_gap": null,
      "grid_row": null,
      "grid_template_areas": null,
      "grid_template_columns": null,
      "grid_template_rows": null,
      "height": null,
      "justify_content": null,
      "justify_items": null,
      "left": null,
      "margin": null,
      "max_height": null,
      "max_width": null,
      "min_height": null,
      "min_width": null,
      "object_fit": null,
      "object_position": null,
      "order": null,
      "overflow": null,
      "overflow_x": null,
      "overflow_y": null,
      "padding": null,
      "right": null,
      "top": null,
      "visibility": null,
      "width": null
     }
    },
    "6916f56f3b4b4abf89cc2c928cd7e394": {
     "model_module": "@jupyter-widgets/controls",
     "model_module_version": "1.5.0",
     "model_name": "FloatProgressModel",
     "state": {
      "_dom_classes": [],
      "_model_module": "@jupyter-widgets/controls",
      "_model_module_version": "1.5.0",
      "_model_name": "FloatProgressModel",
      "_view_count": null,
      "_view_module": "@jupyter-widgets/controls",
      "_view_module_version": "1.5.0",
      "_view_name": "ProgressView",
      "bar_style": "success",
      "description": "",
      "description_tooltip": null,
      "layout": "IPY_MODEL_5c7671d825ff4748859356074051e576",
      "max": 1000,
      "min": 0,
      "orientation": "horizontal",
      "style": "IPY_MODEL_58f79ce0b7e54bf1923561c373a21336",
      "value": 1000
     }
    },
    "707f18e0974043f7bfdbf557426ab60c": {
     "model_module": "@jupyter-widgets/base",
     "model_module_version": "1.2.0",
     "model_name": "LayoutModel",
     "state": {
      "_model_module": "@jupyter-widgets/base",
      "_model_module_version": "1.2.0",
      "_model_name": "LayoutModel",
      "_view_count": null,
      "_view_module": "@jupyter-widgets/base",
      "_view_module_version": "1.2.0",
      "_view_name": "LayoutView",
      "align_content": null,
      "align_items": null,
      "align_self": null,
      "border": null,
      "bottom": null,
      "display": null,
      "flex": null,
      "flex_flow": null,
      "grid_area": null,
      "grid_auto_columns": null,
      "grid_auto_flow": null,
      "grid_auto_rows": null,
      "grid_column": null,
      "grid_gap": null,
      "grid_row": null,
      "grid_template_areas": null,
      "grid_template_columns": null,
      "grid_template_rows": null,
      "height": null,
      "justify_content": null,
      "justify_items": null,
      "left": null,
      "margin": null,
      "max_height": null,
      "max_width": null,
      "min_height": null,
      "min_width": null,
      "object_fit": null,
      "object_position": null,
      "order": null,
      "overflow": null,
      "overflow_x": null,
      "overflow_y": null,
      "padding": null,
      "right": null,
      "top": null,
      "visibility": null,
      "width": null
     }
    },
    "716baf355ec9454dadcb3b43ac7cf2b4": {
     "model_module": "@jupyter-widgets/base",
     "model_module_version": "1.2.0",
     "model_name": "LayoutModel",
     "state": {
      "_model_module": "@jupyter-widgets/base",
      "_model_module_version": "1.2.0",
      "_model_name": "LayoutModel",
      "_view_count": null,
      "_view_module": "@jupyter-widgets/base",
      "_view_module_version": "1.2.0",
      "_view_name": "LayoutView",
      "align_content": null,
      "align_items": null,
      "align_self": null,
      "border": null,
      "bottom": null,
      "display": null,
      "flex": null,
      "flex_flow": null,
      "grid_area": null,
      "grid_auto_columns": null,
      "grid_auto_flow": null,
      "grid_auto_rows": null,
      "grid_column": null,
      "grid_gap": null,
      "grid_row": null,
      "grid_template_areas": null,
      "grid_template_columns": null,
      "grid_template_rows": null,
      "height": null,
      "justify_content": null,
      "justify_items": null,
      "left": null,
      "margin": null,
      "max_height": null,
      "max_width": null,
      "min_height": null,
      "min_width": null,
      "object_fit": null,
      "object_position": null,
      "order": null,
      "overflow": null,
      "overflow_x": null,
      "overflow_y": null,
      "padding": null,
      "right": null,
      "top": null,
      "visibility": null,
      "width": null
     }
    },
    "7239692951864e42867a4533e0766f68": {
     "model_module": "@jupyter-widgets/controls",
     "model_module_version": "1.5.0",
     "model_name": "HTMLModel",
     "state": {
      "_dom_classes": [],
      "_model_module": "@jupyter-widgets/controls",
      "_model_module_version": "1.5.0",
      "_model_name": "HTMLModel",
      "_view_count": null,
      "_view_module": "@jupyter-widgets/controls",
      "_view_module_version": "1.5.0",
      "_view_name": "HTMLView",
      "description": "",
      "description_tooltip": null,
      "layout": "IPY_MODEL_dfd9395b25ee44b18ab2445f3dbd0467",
      "placeholder": "​",
      "style": "IPY_MODEL_42fd9d07770a40658cf08f24e6c56288",
      "value": " 1000/1000 [01:08&lt;00:00, 16.79it/s]"
     }
    },
    "77b89e6bb7a64791aa874248251765ae": {
     "model_module": "@jupyter-widgets/controls",
     "model_module_version": "1.5.0",
     "model_name": "FloatProgressModel",
     "state": {
      "_dom_classes": [],
      "_model_module": "@jupyter-widgets/controls",
      "_model_module_version": "1.5.0",
      "_model_name": "FloatProgressModel",
      "_view_count": null,
      "_view_module": "@jupyter-widgets/controls",
      "_view_module_version": "1.5.0",
      "_view_name": "ProgressView",
      "bar_style": "success",
      "description": "",
      "description_tooltip": null,
      "layout": "IPY_MODEL_bc04d99adcd14299a0512faf94da61d8",
      "max": 52,
      "min": 0,
      "orientation": "horizontal",
      "style": "IPY_MODEL_d7e73f5b385c4e2091d5d81fb29224a2",
      "value": 52
     }
    },
    "8523da6774144b359408ee86b6436a89": {
     "model_module": "@jupyter-widgets/controls",
     "model_module_version": "1.5.0",
     "model_name": "HTMLModel",
     "state": {
      "_dom_classes": [],
      "_model_module": "@jupyter-widgets/controls",
      "_model_module_version": "1.5.0",
      "_model_name": "HTMLModel",
      "_view_count": null,
      "_view_module": "@jupyter-widgets/controls",
      "_view_module_version": "1.5.0",
      "_view_name": "HTMLView",
      "description": "",
      "description_tooltip": null,
      "layout": "IPY_MODEL_c5845980b5854b649df35d157832b9ff",
      "placeholder": "​",
      "style": "IPY_MODEL_14077798b2874c20b81cda2820239e06",
      "value": "100%"
     }
    },
    "919a6797c4a44a8fa32b2182b3b956e9": {
     "model_module": "@jupyter-widgets/controls",
     "model_module_version": "1.5.0",
     "model_name": "HTMLModel",
     "state": {
      "_dom_classes": [],
      "_model_module": "@jupyter-widgets/controls",
      "_model_module_version": "1.5.0",
      "_model_name": "HTMLModel",
      "_view_count": null,
      "_view_module": "@jupyter-widgets/controls",
      "_view_module_version": "1.5.0",
      "_view_name": "HTMLView",
      "description": "",
      "description_tooltip": null,
      "layout": "IPY_MODEL_2362707b32fd428abc831718013f7d82",
      "placeholder": "​",
      "style": "IPY_MODEL_396eda4893544a32ae344a6b36f29277",
      "value": " 30/30 [00:40&lt;00:00,  1.24s/it]"
     }
    },
    "9558f6f268d64d5db4524c0b7bbf9d55": {
     "model_module": "@jupyter-widgets/controls",
     "model_module_version": "1.5.0",
     "model_name": "HTMLModel",
     "state": {
      "_dom_classes": [],
      "_model_module": "@jupyter-widgets/controls",
      "_model_module_version": "1.5.0",
      "_model_name": "HTMLModel",
      "_view_count": null,
      "_view_module": "@jupyter-widgets/controls",
      "_view_module_version": "1.5.0",
      "_view_name": "HTMLView",
      "description": "",
      "description_tooltip": null,
      "layout": "IPY_MODEL_707f18e0974043f7bfdbf557426ab60c",
      "placeholder": "​",
      "style": "IPY_MODEL_b8bd9da548f347be833a296cec3c1ceb",
      "value": " 1000/1000 [01:03&lt;00:00, 13.08it/s]"
     }
    },
    "9936c791920f4e87b91d4efb9c46abf4": {
     "model_module": "@jupyter-widgets/controls",
     "model_module_version": "1.5.0",
     "model_name": "HBoxModel",
     "state": {
      "_dom_classes": [],
      "_model_module": "@jupyter-widgets/controls",
      "_model_module_version": "1.5.0",
      "_model_name": "HBoxModel",
      "_view_count": null,
      "_view_module": "@jupyter-widgets/controls",
      "_view_module_version": "1.5.0",
      "_view_name": "HBoxView",
      "box_style": "",
      "children": [
       "IPY_MODEL_45e75432dcbe494d916a0a8051eb9a56",
       "IPY_MODEL_77b89e6bb7a64791aa874248251765ae",
       "IPY_MODEL_fe46c775dd304c64b46c43ab7829b95f"
      ],
      "layout": "IPY_MODEL_4362446f1c2e49cdaf90fd13e8c336f2"
     }
    },
    "b8bd9da548f347be833a296cec3c1ceb": {
     "model_module": "@jupyter-widgets/controls",
     "model_module_version": "1.5.0",
     "model_name": "DescriptionStyleModel",
     "state": {
      "_model_module": "@jupyter-widgets/controls",
      "_model_module_version": "1.5.0",
      "_model_name": "DescriptionStyleModel",
      "_view_count": null,
      "_view_module": "@jupyter-widgets/base",
      "_view_module_version": "1.2.0",
      "_view_name": "StyleView",
      "description_width": ""
     }
    },
    "bc04d99adcd14299a0512faf94da61d8": {
     "model_module": "@jupyter-widgets/base",
     "model_module_version": "1.2.0",
     "model_name": "LayoutModel",
     "state": {
      "_model_module": "@jupyter-widgets/base",
      "_model_module_version": "1.2.0",
      "_model_name": "LayoutModel",
      "_view_count": null,
      "_view_module": "@jupyter-widgets/base",
      "_view_module_version": "1.2.0",
      "_view_name": "LayoutView",
      "align_content": null,
      "align_items": null,
      "align_self": null,
      "border": null,
      "bottom": null,
      "display": null,
      "flex": null,
      "flex_flow": null,
      "grid_area": null,
      "grid_auto_columns": null,
      "grid_auto_flow": null,
      "grid_auto_rows": null,
      "grid_column": null,
      "grid_gap": null,
      "grid_row": null,
      "grid_template_areas": null,
      "grid_template_columns": null,
      "grid_template_rows": null,
      "height": null,
      "justify_content": null,
      "justify_items": null,
      "left": null,
      "margin": null,
      "max_height": null,
      "max_width": null,
      "min_height": null,
      "min_width": null,
      "object_fit": null,
      "object_position": null,
      "order": null,
      "overflow": null,
      "overflow_x": null,
      "overflow_y": null,
      "padding": null,
      "right": null,
      "top": null,
      "visibility": null,
      "width": null
     }
    },
    "bd5211dff32e498b950c105661bbd9ab": {
     "model_module": "@jupyter-widgets/controls",
     "model_module_version": "1.5.0",
     "model_name": "HBoxModel",
     "state": {
      "_dom_classes": [],
      "_model_module": "@jupyter-widgets/controls",
      "_model_module_version": "1.5.0",
      "_model_name": "HBoxModel",
      "_view_count": null,
      "_view_module": "@jupyter-widgets/controls",
      "_view_module_version": "1.5.0",
      "_view_name": "HBoxView",
      "box_style": "",
      "children": [
       "IPY_MODEL_498cd481eb204ca98347c9b64946ea64",
       "IPY_MODEL_6916f56f3b4b4abf89cc2c928cd7e394",
       "IPY_MODEL_7239692951864e42867a4533e0766f68"
      ],
      "layout": "IPY_MODEL_ea344d33cf8049959f9d13d748797fd9"
     }
    },
    "c5845980b5854b649df35d157832b9ff": {
     "model_module": "@jupyter-widgets/base",
     "model_module_version": "1.2.0",
     "model_name": "LayoutModel",
     "state": {
      "_model_module": "@jupyter-widgets/base",
      "_model_module_version": "1.2.0",
      "_model_name": "LayoutModel",
      "_view_count": null,
      "_view_module": "@jupyter-widgets/base",
      "_view_module_version": "1.2.0",
      "_view_name": "LayoutView",
      "align_content": null,
      "align_items": null,
      "align_self": null,
      "border": null,
      "bottom": null,
      "display": null,
      "flex": null,
      "flex_flow": null,
      "grid_area": null,
      "grid_auto_columns": null,
      "grid_auto_flow": null,
      "grid_auto_rows": null,
      "grid_column": null,
      "grid_gap": null,
      "grid_row": null,
      "grid_template_areas": null,
      "grid_template_columns": null,
      "grid_template_rows": null,
      "height": null,
      "justify_content": null,
      "justify_items": null,
      "left": null,
      "margin": null,
      "max_height": null,
      "max_width": null,
      "min_height": null,
      "min_width": null,
      "object_fit": null,
      "object_position": null,
      "order": null,
      "overflow": null,
      "overflow_x": null,
      "overflow_y": null,
      "padding": null,
      "right": null,
      "top": null,
      "visibility": null,
      "width": null
     }
    },
    "d7e73f5b385c4e2091d5d81fb29224a2": {
     "model_module": "@jupyter-widgets/controls",
     "model_module_version": "1.5.0",
     "model_name": "ProgressStyleModel",
     "state": {
      "_model_module": "@jupyter-widgets/controls",
      "_model_module_version": "1.5.0",
      "_model_name": "ProgressStyleModel",
      "_view_count": null,
      "_view_module": "@jupyter-widgets/base",
      "_view_module_version": "1.2.0",
      "_view_name": "StyleView",
      "bar_color": null,
      "description_width": ""
     }
    },
    "dfd9395b25ee44b18ab2445f3dbd0467": {
     "model_module": "@jupyter-widgets/base",
     "model_module_version": "1.2.0",
     "model_name": "LayoutModel",
     "state": {
      "_model_module": "@jupyter-widgets/base",
      "_model_module_version": "1.2.0",
      "_model_name": "LayoutModel",
      "_view_count": null,
      "_view_module": "@jupyter-widgets/base",
      "_view_module_version": "1.2.0",
      "_view_name": "LayoutView",
      "align_content": null,
      "align_items": null,
      "align_self": null,
      "border": null,
      "bottom": null,
      "display": null,
      "flex": null,
      "flex_flow": null,
      "grid_area": null,
      "grid_auto_columns": null,
      "grid_auto_flow": null,
      "grid_auto_rows": null,
      "grid_column": null,
      "grid_gap": null,
      "grid_row": null,
      "grid_template_areas": null,
      "grid_template_columns": null,
      "grid_template_rows": null,
      "height": null,
      "justify_content": null,
      "justify_items": null,
      "left": null,
      "margin": null,
      "max_height": null,
      "max_width": null,
      "min_height": null,
      "min_width": null,
      "object_fit": null,
      "object_position": null,
      "order": null,
      "overflow": null,
      "overflow_x": null,
      "overflow_y": null,
      "padding": null,
      "right": null,
      "top": null,
      "visibility": null,
      "width": null
     }
    },
    "ea344d33cf8049959f9d13d748797fd9": {
     "model_module": "@jupyter-widgets/base",
     "model_module_version": "1.2.0",
     "model_name": "LayoutModel",
     "state": {
      "_model_module": "@jupyter-widgets/base",
      "_model_module_version": "1.2.0",
      "_model_name": "LayoutModel",
      "_view_count": null,
      "_view_module": "@jupyter-widgets/base",
      "_view_module_version": "1.2.0",
      "_view_name": "LayoutView",
      "align_content": null,
      "align_items": null,
      "align_self": null,
      "border": null,
      "bottom": null,
      "display": null,
      "flex": null,
      "flex_flow": null,
      "grid_area": null,
      "grid_auto_columns": null,
      "grid_auto_flow": null,
      "grid_auto_rows": null,
      "grid_column": null,
      "grid_gap": null,
      "grid_row": null,
      "grid_template_areas": null,
      "grid_template_columns": null,
      "grid_template_rows": null,
      "height": null,
      "justify_content": null,
      "justify_items": null,
      "left": null,
      "margin": null,
      "max_height": null,
      "max_width": null,
      "min_height": null,
      "min_width": null,
      "object_fit": null,
      "object_position": null,
      "order": null,
      "overflow": null,
      "overflow_x": null,
      "overflow_y": null,
      "padding": null,
      "right": null,
      "top": null,
      "visibility": null,
      "width": null
     }
    },
    "ee00f01b4a1741cfab17884ada3c152b": {
     "model_module": "@jupyter-widgets/controls",
     "model_module_version": "1.5.0",
     "model_name": "FloatProgressModel",
     "state": {
      "_dom_classes": [],
      "_model_module": "@jupyter-widgets/controls",
      "_model_module_version": "1.5.0",
      "_model_name": "FloatProgressModel",
      "_view_count": null,
      "_view_module": "@jupyter-widgets/controls",
      "_view_module_version": "1.5.0",
      "_view_name": "ProgressView",
      "bar_style": "success",
      "description": "",
      "description_tooltip": null,
      "layout": "IPY_MODEL_3a0952f2561249309e3f1b9d677bfac5",
      "max": 30,
      "min": 0,
      "orientation": "horizontal",
      "style": "IPY_MODEL_4a42ec027dc74e439c97c42172b9690d",
      "value": 30
     }
    },
    "eee6eb726f30463e8e64eb4b2b18bc79": {
     "model_module": "@jupyter-widgets/controls",
     "model_module_version": "1.5.0",
     "model_name": "HBoxModel",
     "state": {
      "_dom_classes": [],
      "_model_module": "@jupyter-widgets/controls",
      "_model_module_version": "1.5.0",
      "_model_name": "HBoxModel",
      "_view_count": null,
      "_view_module": "@jupyter-widgets/controls",
      "_view_module_version": "1.5.0",
      "_view_name": "HBoxView",
      "box_style": "",
      "children": [
       "IPY_MODEL_39235bbe74204865a8b33a86ce5e48b7",
       "IPY_MODEL_64dcb3946a524e6f9cb3b81e24d88bcf",
       "IPY_MODEL_9558f6f268d64d5db4524c0b7bbf9d55"
      ],
      "layout": "IPY_MODEL_2ac8c43a219147ddb6ec604811d66a71"
     }
    },
    "fc03dc669fdb412f9e15a2098f16755f": {
     "model_module": "@jupyter-widgets/base",
     "model_module_version": "1.2.0",
     "model_name": "LayoutModel",
     "state": {
      "_model_module": "@jupyter-widgets/base",
      "_model_module_version": "1.2.0",
      "_model_name": "LayoutModel",
      "_view_count": null,
      "_view_module": "@jupyter-widgets/base",
      "_view_module_version": "1.2.0",
      "_view_name": "LayoutView",
      "align_content": null,
      "align_items": null,
      "align_self": null,
      "border": null,
      "bottom": null,
      "display": null,
      "flex": null,
      "flex_flow": null,
      "grid_area": null,
      "grid_auto_columns": null,
      "grid_auto_flow": null,
      "grid_auto_rows": null,
      "grid_column": null,
      "grid_gap": null,
      "grid_row": null,
      "grid_template_areas": null,
      "grid_template_columns": null,
      "grid_template_rows": null,
      "height": null,
      "justify_content": null,
      "justify_items": null,
      "left": null,
      "margin": null,
      "max_height": null,
      "max_width": null,
      "min_height": null,
      "min_width": null,
      "object_fit": null,
      "object_position": null,
      "order": null,
      "overflow": null,
      "overflow_x": null,
      "overflow_y": null,
      "padding": null,
      "right": null,
      "top": null,
      "visibility": null,
      "width": null
     }
    },
    "fe46c775dd304c64b46c43ab7829b95f": {
     "model_module": "@jupyter-widgets/controls",
     "model_module_version": "1.5.0",
     "model_name": "HTMLModel",
     "state": {
      "_dom_classes": [],
      "_model_module": "@jupyter-widgets/controls",
      "_model_module_version": "1.5.0",
      "_model_name": "HTMLModel",
      "_view_count": null,
      "_view_module": "@jupyter-widgets/controls",
      "_view_module_version": "1.5.0",
      "_view_name": "HTMLView",
      "description": "",
      "description_tooltip": null,
      "layout": "IPY_MODEL_62735b18ac1a4aad99999d0638c755e3",
      "placeholder": "​",
      "style": "IPY_MODEL_46cb2f181b0b4376a92c80588fad954a",
      "value": " 52/52 [00:02&lt;00:00, 23.88it/s]"
     }
    }
   }
  }
 },
 "nbformat": 4,
 "nbformat_minor": 1
}
